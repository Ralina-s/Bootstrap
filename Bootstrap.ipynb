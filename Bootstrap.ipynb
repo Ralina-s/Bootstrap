{
 "cells": [
  {
   "cell_type": "code",
   "execution_count": 11,
   "metadata": {
    "collapsed": true
   },
   "outputs": [],
   "source": [
    "import numpy as np\n",
    "import pandas as pd\n",
    "\n",
    "import os\n",
    "import random"
   ]
  },
  {
   "cell_type": "markdown",
   "metadata": {},
   "source": [
    "### Загрузка данных"
   ]
  },
  {
   "cell_type": "code",
   "execution_count": 9,
   "metadata": {
    "collapsed": false
   },
   "outputs": [],
   "source": [
    "path_data = './data'\n",
    "\n",
    "data1 = []\n",
    "data2 = []\n",
    "\n",
    "# __ считываем первый сплит __\n",
    "with open(os.path.join(path_data, 'c1.txt')) as c1:\n",
    "    for line in c1:\n",
    "        clicks = line.strip().split()\n",
    "        data1.append(np.array(clicks).astype(int))\n",
    "data1 = np.asarray(data1)\n",
    "\n",
    "# __ считываем второй сплит __\n",
    "with open(os.path.join(path_data, 'c2.txt')) as c2:\n",
    "    for line in c2:\n",
    "        clicks = line.strip().split()\n",
    "        data2.append(np.array(clicks).astype(int))\n",
    "data2 = np.asarray(data2)"
   ]
  },
  {
   "cell_type": "code",
   "execution_count": 10,
   "metadata": {
    "collapsed": false
   },
   "outputs": [
    {
     "name": "stdout",
     "output_type": "stream",
     "text": [
      "[[1 1 1 0 0 0 0 0 0 0]\n",
      " [0 0 0 0 0 0 0 0 0 0]\n",
      " [1 0 0 0 0 0 0 0 0 0]\n",
      " [1 1 1 0 0 0 0 0 0 0]\n",
      " [1 0 0 0 0 0 0 0 0 0]]\n"
     ]
    }
   ],
   "source": [
    "print data1[:5]"
   ]
  },
  {
   "cell_type": "markdown",
   "metadata": {},
   "source": [
    "### Bootstrap"
   ]
  },
  {
   "cell_type": "code",
   "execution_count": 59,
   "metadata": {
    "collapsed": true
   },
   "outputs": [],
   "source": [
    "# __ Получение подвыборки того же размера __\n",
    "def get_sample(data):\n",
    "    n = len(data)\n",
    "    new_data = []\n",
    "    for i in xrange(n):\n",
    "        new_data.append(data[random.randint(0, n-1)])\n",
    "    \n",
    "    return np.asarray(new_data)"
   ]
  },
  {
   "cell_type": "code",
   "execution_count": 68,
   "metadata": {
    "collapsed": true
   },
   "outputs": [],
   "source": [
    "def t_stats(data1, data2):\n",
    "    return abs(data1.mean() - data2.mean()) / np.sqrt(data1.std() / len(data1) + data2.std() / len(data2))"
   ]
  },
  {
   "cell_type": "code",
   "execution_count": 72,
   "metadata": {
    "collapsed": true
   },
   "outputs": [],
   "source": [
    "def isReject(t, t0=1.96):\n",
    "    return int(t > t0)"
   ]
  },
  {
   "cell_type": "code",
   "execution_count": 84,
   "metadata": {
    "collapsed": true
   },
   "outputs": [],
   "source": [
    "def bootstrap(data1, data2, stats, verbose=False):\n",
    "    new_data1 = get_sample(data1)\n",
    "    new_data2 = get_sample(data2)\n",
    "    t = t_stats(stats(new_data1), stats(new_data2))\n",
    "    if verbose:\n",
    "        print 't = ' + str(t)\n",
    "    return isReject(t)"
   ]
  },
  {
   "cell_type": "code",
   "execution_count": 85,
   "metadata": {
    "collapsed": true
   },
   "outputs": [],
   "source": [
    "def ASL(data1, data2, stats, n_bootstrap=5000, verbose=False):\n",
    "    \n",
    "    n_reject = 0\n",
    "    for i in xrange(n_bootstrap):\n",
    "        n_reject += bootstrap(data1, data2, stats, verbose)\n",
    "\n",
    "    return float(n_reject) / n_bootstrap"
   ]
  },
  {
   "cell_type": "markdown",
   "metadata": {},
   "source": [
    "### CTR"
   ]
  },
  {
   "cell_type": "code",
   "execution_count": 57,
   "metadata": {
    "collapsed": true
   },
   "outputs": [],
   "source": [
    "def CTR(data):\n",
    "    no_click = [1 if (x==0).all() else 0 for x in data]\n",
    "    return no_click.count(0) / float(len(data))"
   ]
  },
  {
   "cell_type": "code",
   "execution_count": 58,
   "metadata": {
    "collapsed": true
   },
   "outputs": [],
   "source": [
    "# __ Получаем стипок значений CTR для каждой группы __ \n",
    "def all_CTR(data, len_group=1000):\n",
    "    result = []\n",
    "    for i in xrange(len(data) / len_group):\n",
    "        result.append(CTR(data[i*len_group : (i+1)*len_group]))\n",
    "        \n",
    "    return np.asarray(result)"
   ]
  },
  {
   "cell_type": "code",
   "execution_count": 80,
   "metadata": {
    "collapsed": false
   },
   "outputs": [
    {
     "name": "stdout",
     "output_type": "stream",
     "text": [
      "t = 5.25899022208\n",
      "t = 5.52319056013\n",
      "t = 5.31216238201\n",
      "t = 5.59531523695\n",
      "t = 5.62369504629\n",
      "t = 5.35236965265\n",
      "t = 5.55305719367\n",
      "t = 5.67220571617\n",
      "t = 5.4530701701\n",
      "t = 5.5676105759\n",
      "ASL: 1.0\n"
     ]
    }
   ],
   "source": [
    "print 'ASL: ' + str(ASL(data1, data2, all_CTR, n_bootstrap=10, verbose=True))"
   ]
  },
  {
   "cell_type": "code",
   "execution_count": 87,
   "metadata": {
    "collapsed": false
   },
   "outputs": [
    {
     "name": "stdout",
     "output_type": "stream",
     "text": [
      "Количество итераций: 10.000\n",
      "ASL: 1.0\n"
     ]
    }
   ],
   "source": [
    "print 'Количество итераций: 10.000'\n",
    "print 'ASL: ' + str(ASL(data1, data2, all_CTR, n_bootstrap=10000, verbose=False))"
   ]
  },
  {
   "cell_type": "markdown",
   "metadata": {},
   "source": [
    "Отвергается гипотеза Н0 о том, что CTR на двух сплитах можно объяснить шумами"
   ]
  },
  {
   "cell_type": "markdown",
   "metadata": {},
   "source": [
    "### Доля кликов в первый результат"
   ]
  },
  {
   "cell_type": "code",
   "execution_count": 81,
   "metadata": {
    "collapsed": true
   },
   "outputs": [],
   "source": [
    "def firstClick(data):\n",
    "    first_click = [1 if x[0]==1 else 0 for x in data]\n",
    "    return first_click.count(1) / float(len(data))"
   ]
  },
  {
   "cell_type": "code",
   "execution_count": 82,
   "metadata": {
    "collapsed": true
   },
   "outputs": [],
   "source": [
    "def all_firstClick(data, len_group=1000):\n",
    "    result = []\n",
    "    for i in xrange(len(data) / len_group):\n",
    "        result.append(firstClick(data[i*len_group : (i+1)*len_group]))\n",
    "        \n",
    "    return np.asarray(result)"
   ]
  },
  {
   "cell_type": "code",
   "execution_count": 83,
   "metadata": {
    "collapsed": false
   },
   "outputs": [
    {
     "name": "stdout",
     "output_type": "stream",
     "text": [
      "t = 27.5055752207\n",
      "t = 28.1929446624\n",
      "t = 27.8416280869\n",
      "t = 28.0082916252\n",
      "t = 28.1206978403\n",
      "t = 28.2285347774\n",
      "t = 28.0607517875\n",
      "t = 28.2134900879\n",
      "t = 28.0246417723\n",
      "t = 27.6358489501\n",
      "ASL: 1.0\n"
     ]
    }
   ],
   "source": [
    "print 'ASL: ' + str(ASL(data1, data2, all_firstClick, n_bootstrap=10, verbose=True))"
   ]
  },
  {
   "cell_type": "code",
   "execution_count": 88,
   "metadata": {
    "collapsed": false
   },
   "outputs": [
    {
     "name": "stdout",
     "output_type": "stream",
     "text": [
      "Количество итераций: 10.000\n",
      "ASL: 1.0\n"
     ]
    }
   ],
   "source": [
    "print 'Количество итераций: 10.000'\n",
    "print 'ASL: ' + str(ASL(data1, data2, all_firstClick, n_bootstrap=10000))"
   ]
  },
  {
   "cell_type": "markdown",
   "metadata": {},
   "source": [
    "Отвергается гипотеза Н0 о том, что доля кликов в первый результат на двух сплитах можно объяснить шумами"
   ]
  },
  {
   "cell_type": "code",
   "execution_count": null,
   "metadata": {
    "collapsed": true
   },
   "outputs": [],
   "source": []
  }
 ],
 "metadata": {
  "kernelspec": {
   "display_name": "Python 2",
   "language": "python",
   "name": "python2"
  },
  "language_info": {
   "codemirror_mode": {
    "name": "ipython",
    "version": 2
   },
   "file_extension": ".py",
   "mimetype": "text/x-python",
   "name": "python",
   "nbconvert_exporter": "python",
   "pygments_lexer": "ipython2",
   "version": "2.7.13"
  }
 },
 "nbformat": 4,
 "nbformat_minor": 2
}
